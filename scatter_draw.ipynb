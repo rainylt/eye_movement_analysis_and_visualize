{
 "cells": [
  {
   "cell_type": "code",
   "execution_count": 1,
   "metadata": {},
   "outputs": [],
   "source": [
    "import numpy as np#数据\n",
    "from matplotlib.animation import FuncAnimation#动态图\n",
    "from matplotlib import pyplot as plt#创建子图\n",
    "\n",
    "%matplotlib inline"
   ]
  },
  {
   "cell_type": "code",
   "execution_count": 7,
   "metadata": {},
   "outputs": [
    {
     "data": {
      "text/plain": [
       "array([[2406.79744581,  575.93484973],\n",
       "       [1468.69096003,   77.03959275],\n",
       "       [ 630.51498282, 1149.8329929 ],\n",
       "       [ 683.71867566, 1308.2008588 ],\n",
       "       [ 762.78530611,  820.68618035],\n",
       "       [1862.34911222, 1231.41679132],\n",
       "       [ 651.24157289,  662.84551526],\n",
       "       [ 656.06338296, 1344.08575183],\n",
       "       [ 337.91967694, 1284.54809084],\n",
       "       [ 394.86371419,  501.53399003]])"
      ]
     },
     "execution_count": 7,
     "metadata": {},
     "output_type": "execute_result"
    }
   ],
   "source": [
    "gaze_points = np.random.rand(10,2)\n",
    "gaze_points[:,0] = gaze_points[:,0]*2560\n",
    "gaze_points[:,1] = gaze_points[:,1]*1440\n",
    "gaze_points"
   ]
  },
  {
   "cell_type": "code",
   "execution_count": 11,
   "metadata": {},
   "outputs": [
    {
     "data": {
      "image/png": "[encoded data removed]",
      "text/plain": [
       "<Figure size 432x288 with 1 Axes>"
      ]
     },
     "metadata": {
      "needs_background": "light"
     },
     "output_type": "display_data"
    }
   ],
   "source": [
    "img = plt.imread('data/gd_img/Stroop_1.png')\n",
    "\n",
    "fig, ax = plt.subplots()\n",
    "fig.set_tight_layout(True)\n",
    "#plt.xlim(0,1)\n",
    "#plt.ylim(0,1)\n",
    "#fig.figimage(img,resize=True)\n",
    "#sca = ax.scatter(gaze_points[0][0],gaze_points[0][1],label=\"test\")\n",
    "ax.imshow(img)\n",
    "sca, = plt.plot(gaze_points[0][0],gaze_points[0][1],'r-o',)\n",
    "#sca.set_offsets([gaze_points[1][0],gaze_points[1][1]])\n",
    "#label = 'timestep {0}'.format(0)"
   ]
  },
  {
   "cell_type": "code",
   "execution_count": 4,
   "metadata": {},
   "outputs": [],
   "source": [
    "def update(i):#i:第i帧，即第i行数据\n",
    "    x_data = []\n",
    "    y_data = []\n",
    "    for m in range(-1,2):\n",
    "        if((i+m)<0 or (i+m)>=10):\n",
    "            continue\n",
    "        x_data.append(gaze_points[i+m][0])\n",
    "        y_data.append(gaze_points[i+m][1])\n",
    "        #data.append([gaze_points[i+m][0],gaze_points[i+m][1]])\n",
    "    #x = gaze_points[i][0]\n",
    "    #y = gaze_points[i][1]\n",
    "    #sca.set_offsets(data)\n",
    "    sca.set_data(x_data,y_data)\n",
    "    #label = 'timestep {0}'.format(i)\n",
    "    #ax.set_xlabel(label)\n",
    "    return sca"
   ]
  },
  {
   "cell_type": "code",
   "execution_count": 6,
   "metadata": {},
   "outputs": [],
   "source": [
    "ani = FuncAnimation(fig = fig,\n",
    "                    func = update,\n",
    "                    frames = 10,\n",
    "                    interval = 33,\n",
    "                    blit = False)"
   ]
  },
  {
   "cell_type": "code",
   "execution_count": 24,
   "metadata": {},
   "outputs": [],
   "source": [
    "ani.save('demoanimation.gif', writer='pillow', fps=2)"
   ]
  },
  {
   "cell_type": "code",
   "execution_count": null,
   "metadata": {},
   "outputs": [],
   "source": []
  }
 ],
 "metadata": {
  "kernelspec": {
   "display_name": "Python 3",
   "language": "python",
   "name": "python3"
  },
  "language_info": {
   "codemirror_mode": {
    "name": "ipython",
    "version": 3
   },
   "file_extension": ".py",
   "mimetype": "text/x-python",
   "name": "python",
   "nbconvert_exporter": "python",
   "pygments_lexer": "ipython3",
   "version": "3.7.3"
  }
 },
 "nbformat": 4,
 "nbformat_minor": 2
}
